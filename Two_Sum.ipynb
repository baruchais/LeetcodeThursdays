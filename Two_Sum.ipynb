{
 "cells": [
  {
   "cell_type": "markdown",
   "metadata": {
    "id": "rsmEMJ0PEDx0"
   },
   "source": [
    "# ABOUT BARUCH AIS\n",
    "*   BEST TECH CLUB AT BARUCH\n",
    "*   WORKSHOPS\n",
    "*   NETWORK\n",
    "*   COOL LIKE MINDED FRIENDS\n",
    "\n",
    "### BARUCH AIS\n",
    "*   ATTEND EVENTS\n",
    "*   BECOME A MEMBER\n",
    "\n",
    "### UPCOMING EVENTS\n",
    "*   CLEANING AND VISUALIZING DATA: OCTOBER 19TH, 12:30 - 14:30\n",
    "*   AWS JOURNEY WITH AMR: OCTOBER 17TH, 12:30 - 14:00\n"
   ]
  },
  {
   "cell_type": "markdown",
   "metadata": {
    "id": "MlHUbr87Fm_Q"
   },
   "source": [
    "# TWO SUM PROBLEM\n",
    "\n",
    "Given an array of integers nums and an integer target, return indices of the two numbers such that they add up to target.\n",
    "\n",
    "You may assume that each input would have exactly one solution, and you may not use the same element twice.\n",
    "\n",
    "You can return the answer in any order.  \n",
    "  \n",
    "  \n",
    "Example 1:\n",
    "\n",
    "Input: nums = [2,7,11,15], target = 9  \n",
    "Output: [0,1]  \n",
    "Explanation: Because nums[0] + nums[1] == 9, we return [0, 1].  \n",
    "\n",
    "Example 2:  \n",
    "Input: nums = [3,2,4], target = 6  \n",
    "Output: [1,2]  \n",
    "\n",
    "Example 3:  \n",
    "\n",
    "Input: nums = [3,3], target = 6  \n",
    "Output: [0,1]  "
   ]
  },
  {
   "cell_type": "code",
   "execution_count": null,
   "metadata": {
    "id": "SMwCAdd0F-dh"
   },
   "outputs": [],
   "source": [
    "nums = [2,7,11,15]\n",
    "target = 9"
   ]
  },
  {
   "cell_type": "code",
   "execution_count": null,
   "metadata": {
    "id": "c4DEfKjKGDei"
   },
   "outputs": [],
   "source": [
    "nums = [3,2,4]\n",
    "target = 6"
   ]
  },
  {
   "cell_type": "code",
   "execution_count": null,
   "metadata": {
    "id": "faYCqXGbGHwE"
   },
   "outputs": [],
   "source": [
    "nums = [3,3]\n",
    "target = 6"
   ]
  },
  {
   "cell_type": "markdown",
   "metadata": {
    "id": "pFapAPj-MIOM"
   },
   "source": [
    "Things we need  \n",
    "value of the item from the list  \n",
    "the index of the value\n"
   ]
  },
  {
   "cell_type": "code",
   "execution_count": null,
   "metadata": {
    "colab": {
     "base_uri": "https://localhost:8080/"
    },
    "id": "sCROBPEKNZJm",
    "outputId": "50d94d4c-c8d7-455e-f34f-1731f36a894c"
   },
   "outputs": [
    {
     "name": "stdout",
     "output_type": "stream",
     "text": [
      "0 2\n",
      "1 7\n",
      "2 11\n",
      "3 15\n"
     ]
    }
   ],
   "source": [
    "for index, value in enumerate(nums):\n",
    "  print(index, value)"
   ]
  },
  {
   "cell_type": "code",
   "execution_count": null,
   "metadata": {
    "colab": {
     "base_uri": "https://localhost:8080/"
    },
    "id": "4PE0741uLK00",
    "outputId": "e688ee86-7685-4a23-f5c2-36ac52caa37b"
   },
   "outputs": [
    {
     "data": {
      "text/plain": [
       "[0, 1]"
      ]
     },
     "execution_count": 30,
     "metadata": {},
     "output_type": "execute_result"
    }
   ],
   "source": [
    "def twoSum(numbers: list[int], target_num:int) -> list[int]:\n",
    "  result = []\n",
    "  for index, number in enumerate(numbers):\n",
    "    for otherIndex, otherNumber in enumerate(numbers):\n",
    "      if index == otherIndex:\n",
    "        continue\n",
    "      else:\n",
    "        if number+otherNumber == target_num:\n",
    "          result.append(index)\n",
    "          result.append(otherIndex)\n",
    "          return result\n",
    "\n",
    "twoSum(nums, target)\n",
    "\n",
    "\n"
   ]
  },
  {
   "cell_type": "code",
   "execution_count": null,
   "metadata": {
    "colab": {
     "base_uri": "https://localhost:8080/"
    },
    "id": "aB7IXQdgSLNn",
    "outputId": "d5c8eb9b-6845-48fd-d9cc-e809727e9396"
   },
   "outputs": [
    {
     "name": "stdout",
     "output_type": "stream",
     "text": [
      "0\n",
      "1\n",
      "2\n",
      "3\n",
      "4\n",
      "5\n",
      "6\n",
      "7\n",
      "8\n",
      "9\n"
     ]
    }
   ],
   "source": [
    "for x in range(10):\n",
    "  print(x)"
   ]
  },
  {
   "cell_type": "code",
   "execution_count": null,
   "metadata": {
    "colab": {
     "base_uri": "https://localhost:8080/"
    },
    "id": "uo12sL0fRBqT",
    "outputId": "0f4fdc9a-b9bc-4c46-ee66-efa3f0d3364b"
   },
   "outputs": [
    {
     "name": "stdout",
     "output_type": "stream",
     "text": [
      "[0, 1]\n"
     ]
    }
   ],
   "source": [
    "def twoSum(numbers: list[int], target_num:int) -> list[int]:\n",
    "  for first_number in range(len(numbers)):\n",
    "    for second_num in range(first_number+1, len(numbers)):\n",
    "      if numbers[first_number] + numbers[second_num] == target_num:\n",
    "        return [first_number, second_num]\n",
    "\n",
    "print(twoSum(nums, target))"
   ]
  },
  {
   "cell_type": "markdown",
   "metadata": {
    "id": "yhd-BXE1WNIE"
   },
   "source": [
    "creat hashmap  \n",
    "loop through list  \n",
    "target - value at the index is in the hashmap  \n",
    "  return the index and the value of the key:value pair\n",
    "else\n",
    "add the value value to the Hashmap as the key with index as the value"
   ]
  },
  {
   "cell_type": "code",
   "execution_count": null,
   "metadata": {
    "colab": {
     "base_uri": "https://localhost:8080/"
    },
    "id": "P0nEPk9kTqv1",
    "outputId": "7ac82d91-f90c-44a8-8055-8237c79fbfc5"
   },
   "outputs": [
    {
     "name": "stdout",
     "output_type": "stream",
     "text": [
      "[2, 15]\n"
     ]
    }
   ],
   "source": [
    "nums = [2,7,11,15]\n",
    "target = 9\n",
    "\n",
    "print(nums[2])"
   ]
  },
  {
   "cell_type": "code",
   "execution_count": null,
   "metadata": {
    "colab": {
     "base_uri": "https://localhost:8080/"
    },
    "id": "VMsrA2m0VUDC",
    "outputId": "d1ae0674-6e01-4097-b54e-497f64d3a23c"
   },
   "outputs": [
    {
     "name": "stdout",
     "output_type": "stream",
     "text": [
      "[1, 0]\n"
     ]
    }
   ],
   "source": [
    "def twoSum(numbers: list[int], target_num:int) -> list[int]:\n",
    "  hashmap = {}\n",
    "\n",
    "  for index in range(len(numbers)):\n",
    "\n",
    "    if target - numbers[index] in hashmap:\n",
    "\n",
    "      return [index, hashmap[target-numbers[index]]]\n",
    "    else:\n",
    "      hashmap[numbers[index]] = index\n",
    "\n",
    "print(twoSum(nums, target))\n",
    "\n",
    "\n"
   ]
  }
 ],
 "metadata": {
  "colab": {
   "provenance": []
  },
  "kernelspec": {
   "display_name": "Python 3 (ipykernel)",
   "language": "python",
   "name": "python3"
  },
  "language_info": {
   "codemirror_mode": {
    "name": "ipython",
    "version": 3
   },
   "file_extension": ".py",
   "mimetype": "text/x-python",
   "name": "python",
   "nbconvert_exporter": "python",
   "pygments_lexer": "ipython3",
   "version": "3.10.6"
  }
 },
 "nbformat": 4,
 "nbformat_minor": 1
}
